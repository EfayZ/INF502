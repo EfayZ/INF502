{
 "cells": [
  {
   "cell_type": "markdown",
   "metadata": {},
   "source": [
    "The question has 5 wallets, so I needed to input 5 values for 5 wallets. At the same time, I had to make sure the money would not go negative. Bacause cash cannot be 0.000 and dime cannot be 0.00, I print them with %.2f and %.1f."
   ]
  },
  {
   "cell_type": "code",
   "execution_count": 1,
   "metadata": {},
   "outputs": [],
   "source": [
    "def wallets():\n",
    "    value = list()\n",
    "    \n",
    "    Wallets = 0\n",
    "    while Wallets <= 4:\n",
    "        try:\n",
    "            Cash = input(\"How much do you have in your wallet?\\n\")\n",
    "            Cash = float(Cash)\n",
    "            if Cash < 0:\n",
    "                raise ValueError\n",
    "        except ValueError:\n",
    "                print(\"Please input a valid value:\")\n",
    "        else:\n",
    "            value.append(Cash)\n",
    "            Wallets += 1\n",
    "        \n",
    "    value.sort()\n",
    "    print(\"The fattest wallet has $%.2f value in it.\\n\" %value[-1])\n",
    "    print(\"The skinniest wallet has $%.2f value in it.\\n\" %value[0])\n",
    "    print(\"All together, these wallets have $%.2f value in them.\\n\" %sum(value))\n",
    "    print(\"All together, the total value of these wallets is worth $%.1f dimes.\\n\" %(sum(value)*10))"
   ]
  },
  {
   "cell_type": "code",
   "execution_count": 2,
   "metadata": {},
   "outputs": [
    {
     "name": "stdout",
     "output_type": "stream",
     "text": [
      "How much do you have in your wallet?\n",
      "-50\n",
      "Please input a valid value:\n",
      "How much do you have in your wallet?\n",
      "84\n",
      "How much do you have in your wallet?\n",
      "55\n",
      "How much do you have in your wallet?\n",
      "16\n",
      "How much do you have in your wallet?\n",
      "32\n",
      "How much do you have in your wallet?\n",
      "99\n",
      "The fattest wallet has $99.00 value in it.\n",
      "\n",
      "The skinniest wallet has $16.00 value in it.\n",
      "\n",
      "All together, these wallets have $286.00 value in them.\n",
      "\n",
      "All together, the total value of these wallets is worth $2860.0 dimes.\n",
      "\n"
     ]
    }
   ],
   "source": [
    "wallets()"
   ]
  }
 ],
 "metadata": {
  "kernelspec": {
   "display_name": "Python 3",
   "language": "python",
   "name": "python3"
  },
  "language_info": {
   "codemirror_mode": {
    "name": "ipython",
    "version": 3
   },
   "file_extension": ".py",
   "mimetype": "text/x-python",
   "name": "python",
   "nbconvert_exporter": "python",
   "pygments_lexer": "ipython3",
   "version": "3.8.3"
  }
 },
 "nbformat": 4,
 "nbformat_minor": 4
}
