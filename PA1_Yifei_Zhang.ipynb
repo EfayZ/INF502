{
 "cells": [
  {
   "cell_type": "markdown",
   "metadata": {},
   "source": [
    "Max shift"
   ]
  },
  {
   "cell_type": "code",
   "execution_count": 13,
   "metadata": {},
   "outputs": [],
   "source": [
    "def maxshift(str1, str2):\n",
    "    a = len(str1)\n",
    "    b = len(str2)\n",
    "    maxvalue = max(a, b)\n",
    "    while(True):\n",
    "        flag = 0\n",
    "        try:\n",
    "            shiftbits = input(\"please enter the maximum shift(must be a non-negative integer):\")\n",
    "            shiftbits = int(shiftbits)\n",
    "        except ValueError:\n",
    "            print(\"You are giving an invalid value, please try agian!\")\n",
    "        else:\n",
    "            if shiftbits >= 0 and shiftbits <= (maxvalue-1):\n",
    "                flag = 1\n",
    "            else:\n",
    "                flag = 0\n",
    "                print(\"The shift bits must be a non-negative integer and no longer than the sqeuence\")\n",
    "                continue\n",
    "        if flag == 0:\n",
    "            continue\n",
    "            \n",
    "        return shiftbits\n",
    "                \n",
    "    "
   ]
  },
  {
   "cell_type": "code",
   "execution_count": 23,
   "metadata": {},
   "outputs": [],
   "source": [
    "def shift(sequence,shiftbits):\n",
    "    c = list()\n",
    "    for i in range(shiftbits):\n",
    "        c.append('-')\n",
    "    for i in range(len(sequence)):        \n",
    "        c.append(sequence[i])\n",
    "    \n",
    "    return ''.join(c)"
   ]
  },
  {
   "cell_type": "code",
   "execution_count": 14,
   "metadata": {},
   "outputs": [
    {
     "name": "stdout",
     "output_type": "stream",
     "text": [
      "please enter the maximum shift(must be a non-negative integer):10\n",
      "The shift bits must be a non-negative integer and no longer than the sqeuence\n",
      "please enter the maximum shift(must be a non-negative integer):4\n"
     ]
    },
    {
     "data": {
      "text/plain": [
       "4"
      ]
     },
     "execution_count": 14,
     "metadata": {},
     "output_type": "execute_result"
    }
   ],
   "source": [
    "str1 = 'ACTGCCGCG'\n",
    "str2 = 'ACGTCGTCG'\n",
    "maxshift(str1, str2)"
   ]
  },
  {
   "cell_type": "markdown",
   "metadata": {},
   "source": [
    "input files"
   ]
  },
  {
   "cell_type": "code",
   "execution_count": 11,
   "metadata": {},
   "outputs": [],
   "source": [
    "import os\n",
    "def fileinput():\n",
    "    while 1:\n",
    "        file1 = input(\"Please enter file1 name:\\n \")\n",
    "        file2 = input(\"Please enter file2 name:\\n \")\n",
    "        print(file1 and file2)\n",
    "        flag = 0\n",
    "        if os.path.exists(file1) == True and os.path.exists(file2) == True:\n",
    "            flag = 1\n",
    "        else:\n",
    "            print(\"The file does not exist.\")\n",
    "            flag = 0\n",
    "        if flag == 0:\n",
    "            continue\n",
    "            \n",
    "        if os.path.getsize(file1) and os.path.getsize(file2):\n",
    "            flag = 1\n",
    "        else : \n",
    "            print(\"The file is empty.\")\n",
    "            flag = 0\n",
    "        if flag == 0:\n",
    "            continue\n",
    "            \n",
    "        return file1, file2"
   ]
  },
  {
   "cell_type": "code",
   "execution_count": 12,
   "metadata": {},
   "outputs": [
    {
     "name": "stdout",
     "output_type": "stream",
     "text": [
      "Please enter file1 name:\n",
      " S1.txt\n",
      "Please enter file2 name:\n",
      " S2.txt\n",
      "S2.txt\n"
     ]
    },
    {
     "data": {
      "text/plain": [
       "('S1.txt', 'S2.txt')"
      ]
     },
     "execution_count": 12,
     "metadata": {},
     "output_type": "execute_result"
    }
   ],
   "source": [
    "fileinput()"
   ]
  },
  {
   "cell_type": "markdown",
   "metadata": {},
   "source": [
    "get the sequence from files"
   ]
  },
  {
   "cell_type": "code",
   "execution_count": 18,
   "metadata": {},
   "outputs": [],
   "source": [
    "def getsequence(file1,file2):\n",
    "    f1 = open(file1, \"r\")\n",
    "    f2 = open(file2, \"r\")\n",
    "    squence1 = f1.readline().upper()\n",
    "    squence2 = f2.readline().upper()\n",
    "    print(squence1,squence2)\n",
    "    for char in squence1:\n",
    "        if char != 'A' and char != 'G' and char != 'C' and char != 'T':\n",
    "            print(\"Your sequence is not valid!\")\n",
    "        else:\n",
    "            for char in squence2:\n",
    "                if char != 'A' and char != 'G' and char != 'C' and char != 'T':\n",
    "                    print(\"Your sequence is not valid!\")\n",
    "                else:\n",
    "                    return squence1, squence2"
   ]
  },
  {
   "cell_type": "code",
   "execution_count": 19,
   "metadata": {},
   "outputs": [
    {
     "name": "stdout",
     "output_type": "stream",
     "text": [
      "AGTCAGCATCAGC AGTCGCTCACTAG\n"
     ]
    },
    {
     "data": {
      "text/plain": [
       "('AGTCAGCATCAGC', 'AGTCGCTCACTAG')"
      ]
     },
     "execution_count": 19,
     "metadata": {},
     "output_type": "execute_result"
    }
   ],
   "source": [
    "getsequence('S1.txt','S2.txt')"
   ]
  },
  {
   "cell_type": "markdown",
   "metadata": {},
   "source": [
    "Number of match"
   ]
  },
  {
   "cell_type": "code",
   "execution_count": 75,
   "metadata": {},
   "outputs": [],
   "source": [
    "def compare(str1, str2, maxshift):\n",
    "    score1 = list()\n",
    "    score2 = list()\n",
    "    \n",
    "    for i in range(maxshift + 1):\n",
    "        score1.append(0)\n",
    "        shifted1 = shift(str1,i)\n",
    "        for j in range(min(len(shifted1),len(str2))):\n",
    "            if shifted1[j]==str2[j]:\n",
    "                score1[i] =score1[i]+ 1  \n",
    "    index1 = score1.index(max(score1))    \n",
    "    shifted1=shift(str1,index1) \n",
    "        \n",
    "    for i in range(maxshift + 1):\n",
    "        score2.append(0)\n",
    "        shifted2 = shift(str2,i)\n",
    "        for j in range(min(len(shifted2),len(str1))):            \n",
    "            if shifted2[j]==str1[j]:\n",
    "                score2[i] =score2[i]+ 1   \n",
    "                    \n",
    "    index2 = score2.index(max(score2))\n",
    "    shifted2=shift(str2,index2)\n",
    "    \n",
    "    if max(score1)>max(score2):\n",
    "        shifted1 = shifted1\n",
    "        shifted2 = []\n",
    "        shifted2.append(str2)\n",
    "    else:\n",
    "        shifted1 = []\n",
    "        shifted1.append(str1)\n",
    "        shifted2 = shifted2\n",
    "                    \n",
    "                    \n",
    "    score = max(max(score1),max(score2))\n",
    "    \n",
    "    return score, shifted1, shifted2\n",
    "    \n"
   ]
  },
  {
   "cell_type": "code",
   "execution_count": 77,
   "metadata": {},
   "outputs": [
    {
     "data": {
      "text/plain": [
       "(2, ['1AA'], '-AA1')"
      ]
     },
     "execution_count": 77,
     "metadata": {},
     "output_type": "execute_result"
    }
   ],
   "source": [
    "compare('1AA','AA1',3)\n",
    "\n"
   ]
  },
  {
   "cell_type": "markdown",
   "metadata": {},
   "source": [
    "Max chain"
   ]
  },
  {
   "cell_type": "code",
   "execution_count": 203,
   "metadata": {},
   "outputs": [],
   "source": [
    "def maxchain(str1, str2, maxshift):\n",
    "    score1 = list()\n",
    "    score2 = list()\n",
    "    \n",
    "    for i in range(maxshift + 1):\n",
    "        score = 0\n",
    "        shifted1 = shift(str1,i)\n",
    "        score1.append(0)\n",
    "        score_count = []\n",
    "        for i in range(len(str1)):\n",
    "            if shifted1[i] == str2[i]:\n",
    "                score = score + 1\n",
    "            else:\n",
    "                score_count.append(score)\n",
    "                score = 0;\n",
    "        score_count.append(score)\n",
    "        score_count.sort()\n",
    "        score1[i]=score_count[-1]\n",
    "    index1 = score1.index(max(score1))    \n",
    "    shifted1=shift(str1,index1) \n",
    "        \n",
    "    for i in range(maxshift + 1):\n",
    "        \n",
    "        shifted2 = shift(str2,i)\n",
    "        \n",
    "        score2.append(0)\n",
    "        score_count = []\n",
    "        for i in range(len(str2)):\n",
    "            if shifted1[i] == str2[i]:\n",
    "                score = score + 1\n",
    "            else:\n",
    "                score_count.append(score)\n",
    "                score = 0;\n",
    "        score_count.append(score)\n",
    "        score_count.sort()\n",
    "        score2[i]=score_count[-1]\n",
    "        \n",
    "    index2 = score2.index(max(score2))    \n",
    "    shifted2=shift(str2,index2) \n",
    "    \n",
    "    if max(score1)>max(score2):\n",
    "        shifted1 = shifted1\n",
    "        shifted2 = []\n",
    "        shifted2.append(str2)\n",
    "    else:\n",
    "        shifted1 = []\n",
    "        shifted1.append(str1)\n",
    "        shifted2 = shifted2\n",
    "                    \n",
    "                    \n",
    "    score = max(max(score1),max(score2))\n",
    "    \n",
    "    return score, shifted1, shifted2"
   ]
  }
 ],
 "metadata": {
  "kernelspec": {
   "display_name": "Python 3",
   "language": "python",
   "name": "python3"
  },
  "language_info": {
   "codemirror_mode": {
    "name": "ipython",
    "version": 3
   },
   "file_extension": ".py",
   "mimetype": "text/x-python",
   "name": "python",
   "nbconvert_exporter": "python",
   "pygments_lexer": "ipython3",
   "version": "3.8.3"
  }
 },
 "nbformat": 4,
 "nbformat_minor": 4
}
